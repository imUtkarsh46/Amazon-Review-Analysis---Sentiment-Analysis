{
 "cells": [
  {
   "cell_type": "markdown",
   "id": "cc5c26f0",
   "metadata": {},
   "source": [
    "# DR VAKU® Swadesi Pulse Oximeter - Analysis"
   ]
  },
  {
   "cell_type": "markdown",
   "id": "691ef951",
   "metadata": {},
   "source": [
    "https://www.amazon.in/DR-Oximeter-Fingertip-Monitor-Approved/dp/B08D3KXF9Y/ref=cm_cr_arp_d_product_top?ie=UTF8&th=1"
   ]
  },
  {
   "cell_type": "code",
   "execution_count": 5,
   "id": "91569ca0",
   "metadata": {},
   "outputs": [
    {
     "ename": "ModuleNotFoundError",
     "evalue": "No module named 'wordcloud'",
     "output_type": "error",
     "traceback": [
      "\u001b[1;31m---------------------------------------------------------------------------\u001b[0m",
      "\u001b[1;31mModuleNotFoundError\u001b[0m                       Traceback (most recent call last)",
      "\u001b[1;32mC:\\Users\\UTKARS~1\\AppData\\Local\\Temp/ipykernel_11888/462822459.py\u001b[0m in \u001b[0;36m<module>\u001b[1;34m\u001b[0m\n\u001b[0;32m      4\u001b[0m \u001b[1;32mimport\u001b[0m \u001b[0mspacy\u001b[0m\u001b[1;33m\u001b[0m\u001b[1;33m\u001b[0m\u001b[0m\n\u001b[0;32m      5\u001b[0m \u001b[1;32mimport\u001b[0m \u001b[0mstring\u001b[0m\u001b[1;33m\u001b[0m\u001b[1;33m\u001b[0m\u001b[0m\n\u001b[1;32m----> 6\u001b[1;33m \u001b[1;32mfrom\u001b[0m \u001b[0mwordcloud\u001b[0m \u001b[1;32mimport\u001b[0m \u001b[0mWordCloud\u001b[0m\u001b[1;33m,\u001b[0m \u001b[0mSTOPWORDS\u001b[0m\u001b[1;33m\u001b[0m\u001b[1;33m\u001b[0m\u001b[0m\n\u001b[0m\u001b[0;32m      7\u001b[0m \u001b[1;33m\u001b[0m\u001b[0m\n\u001b[0;32m      8\u001b[0m \u001b[0mget_ipython\u001b[0m\u001b[1;33m(\u001b[0m\u001b[1;33m)\u001b[0m\u001b[1;33m.\u001b[0m\u001b[0mrun_line_magic\u001b[0m\u001b[1;33m(\u001b[0m\u001b[1;34m'matplotlib'\u001b[0m\u001b[1;33m,\u001b[0m \u001b[1;34m'inline'\u001b[0m\u001b[1;33m)\u001b[0m\u001b[1;33m\u001b[0m\u001b[1;33m\u001b[0m\u001b[0m\n",
      "\u001b[1;31mModuleNotFoundError\u001b[0m: No module named 'wordcloud'"
     ]
    }
   ],
   "source": [
    "import pandas as pd\n",
    "import matplotlib.pyplot as plt\n",
    "import numpy as np\n",
    "import spacy\n",
    "import string\n",
    "from wordcloud import WordCloud, STOPWORDS\n",
    "\n",
    "%matplotlib inline"
   ]
  },
  {
   "cell_type": "code",
   "execution_count": null,
   "id": "70d76a71",
   "metadata": {},
   "outputs": [],
   "source": [
    "reviews = pd.read_csv('OxiReviews.csv')"
   ]
  },
  {
   "cell_type": "code",
   "execution_count": null,
   "id": "eeab5caf",
   "metadata": {},
   "outputs": [],
   "source": [
    "reviews.head()"
   ]
  },
  {
   "cell_type": "code",
   "execution_count": null,
   "id": "5205ec7c",
   "metadata": {},
   "outputs": [],
   "source": [
    "reviews.info()"
   ]
  },
  {
   "cell_type": "markdown",
   "id": "511d13f3",
   "metadata": {},
   "source": [
    "# Rating Graph"
   ]
  },
  {
   "cell_type": "code",
   "execution_count": null,
   "id": "c8f3df92",
   "metadata": {},
   "outputs": [],
   "source": [
    "import seaborn as sns\n",
    "count = reviews['rating'].value_counts()\n",
    "sns.barplot(x=count.index, y = count, color = '#a2c816')"
   ]
  },
  {
   "cell_type": "code",
   "execution_count": null,
   "id": "0e05090f",
   "metadata": {},
   "outputs": [],
   "source": [
    "reviews['rating'].value_counts()"
   ]
  },
  {
   "cell_type": "code",
   "execution_count": null,
   "id": "23bbdb78",
   "metadata": {},
   "outputs": [],
   "source": [
    "reviews = reviews.dropna(axis=0)"
   ]
  },
  {
   "cell_type": "code",
   "execution_count": null,
   "id": "a1838600",
   "metadata": {},
   "outputs": [],
   "source": [
    "reviews.isnull().sum()"
   ]
  },
  {
   "cell_type": "code",
   "execution_count": null,
   "id": "d2dc814d",
   "metadata": {},
   "outputs": [],
   "source": [
    "body = reviews['body']\n",
    "rv = \" \".join(body)\n",
    "rv"
   ]
  },
  {
   "cell_type": "code",
   "execution_count": null,
   "id": "b0c65a77",
   "metadata": {},
   "outputs": [],
   "source": [
    "#To remove punctuation marks\n",
    "no_punc_text = rv.translate(str.maketrans('', '', string.punctuation))"
   ]
  },
  {
   "cell_type": "code",
   "execution_count": null,
   "id": "c9ce6834",
   "metadata": {},
   "outputs": [],
   "source": [
    "no_punc_text"
   ]
  },
  {
   "cell_type": "code",
   "execution_count": null,
   "id": "071a6073",
   "metadata": {},
   "outputs": [],
   "source": [
    "#To Create tokens\n",
    "from nltk.tokenize import word_tokenize\n",
    "text_tokens = word_tokenize(no_punc_text)\n",
    "print(text_tokens[0:50])"
   ]
  },
  {
   "cell_type": "code",
   "execution_count": null,
   "id": "c3a74b64",
   "metadata": {},
   "outputs": [],
   "source": [
    "len(text_tokens)"
   ]
  },
  {
   "cell_type": "code",
   "execution_count": null,
   "id": "743a17e2",
   "metadata": {},
   "outputs": [],
   "source": [
    "#Remove Stopwords by NLTK\n",
    "import nltk\n",
    "from nltk.corpus import stopwords\n",
    "nltk.download('punkt')\n",
    "nltk.download('stopwords')"
   ]
  },
  {
   "cell_type": "code",
   "execution_count": null,
   "id": "ef18f454",
   "metadata": {},
   "outputs": [],
   "source": [
    "my_stop_words = stopwords.words('english')\n",
    "li = ['the','The', 'in','I', 'This','its','it','It', 'dont', 'a', 'He', 'Im', 'as']\n",
    "for i in li:\n",
    "    my_stop_words.append(i)\n",
    "no_stop_tokens = [word for word in text_tokens if not word in my_stop_words]\n",
    "print(no_stop_tokens[:40])"
   ]
  },
  {
   "cell_type": "code",
   "execution_count": null,
   "id": "7454d06b",
   "metadata": {},
   "outputs": [],
   "source": [
    "#Normalization\n",
    "lower_words = [x.lower() for x in no_stop_tokens]\n",
    "print(lower_words[0:25])"
   ]
  },
  {
   "cell_type": "code",
   "execution_count": null,
   "id": "01333983",
   "metadata": {},
   "outputs": [],
   "source": [
    "nlp = spacy.load('en_core_web_sm') "
   ]
  },
  {
   "cell_type": "code",
   "execution_count": null,
   "id": "d3115f14",
   "metadata": {},
   "outputs": [],
   "source": [
    "doc = nlp(' '.join(no_stop_tokens))\n",
    "print(doc[0:40])"
   ]
  },
  {
   "cell_type": "code",
   "execution_count": null,
   "id": "db679d98",
   "metadata": {},
   "outputs": [],
   "source": [
    "lemmas = [token.lemma_ for token in doc]\n",
    "print(lemmas[0:25])"
   ]
  },
  {
   "cell_type": "code",
   "execution_count": null,
   "id": "888947d3",
   "metadata": {},
   "outputs": [],
   "source": [
    "#Feature Extraction\n",
    "from sklearn.feature_extraction.text import CountVectorizer\n",
    "vectorizer = CountVectorizer()\n",
    "X = vectorizer.fit_transform(lemmas)"
   ]
  },
  {
   "cell_type": "code",
   "execution_count": null,
   "id": "665c1bf8",
   "metadata": {},
   "outputs": [],
   "source": [
    "print(vectorizer.vocabulary_)"
   ]
  },
  {
   "cell_type": "code",
   "execution_count": null,
   "id": "aaca0d81",
   "metadata": {},
   "outputs": [],
   "source": [
    "import seaborn as sns\n",
    "dic = vectorizer.vocabulary_\n",
    "data = pd.DataFrame(dic.items(), columns=['Date', 'DateValue'])\n",
    "data0=data.sort_values('DateValue',ascending = False)[:10]\n",
    "plt.figure(figsize = (15, 8))\n",
    "sns.barplot(x='Date', y=\"DateValue\", data = data0, color='#a2c816')\n"
   ]
  },
  {
   "cell_type": "code",
   "execution_count": null,
   "id": "15ecb9c8",
   "metadata": {},
   "outputs": [],
   "source": [
    "data0.to_csv(r'wordsFinalFreq.csv', index=False)\n",
    "data0.head(10)"
   ]
  },
  {
   "cell_type": "code",
   "execution_count": null,
   "id": "b5dc0c26",
   "metadata": {},
   "outputs": [],
   "source": [
    "#Create Wordcloud\n",
    "from wordcloud import WordCloud, STOPWORDS\n",
    "\n",
    "def plot_cloud(wordcloud):\n",
    "    plt.figure(figsize=(40, 30))\n",
    "    plt.imshow(wordcloud) \n",
    "    plt.axis(\"off\");"
   ]
  },
  {
   "cell_type": "code",
   "execution_count": null,
   "id": "62ee30ef",
   "metadata": {},
   "outputs": [],
   "source": [
    "stopwords = STOPWORDS\n",
    "wordcloud = WordCloud(width = 3000, height = 2000, random_state=1, background_color='black', colormap='Set2', collocations=False, stopwords = STOPWORDS).generate(rv)\n",
    "plot_cloud(wordcloud)"
   ]
  },
  {
   "cell_type": "code",
   "execution_count": null,
   "id": "f3bf7766",
   "metadata": {},
   "outputs": [],
   "source": [
    "wordcloud.to_file(\"wordCLFinal.png\")"
   ]
  },
  {
   "cell_type": "code",
   "execution_count": null,
   "id": "aad99058",
   "metadata": {},
   "outputs": [],
   "source": [
    "df = []\n",
    "for i in reviews['rating']:\n",
    "    if i<=2:\n",
    "        i='Negative'\n",
    "    elif i == 3:\n",
    "        i='Neutral'\n",
    "    elif i >=4:\n",
    "        i='Positive'\n",
    "    df.append(i)\n",
    "df\n",
    "reviews['Classify'] = pd.DataFrame(df)"
   ]
  },
  {
   "cell_type": "code",
   "execution_count": null,
   "id": "9cde573f",
   "metadata": {},
   "outputs": [],
   "source": [
    "reviews.head(1000)"
   ]
  },
  {
   "cell_type": "code",
   "execution_count": null,
   "id": "472722ce",
   "metadata": {},
   "outputs": [],
   "source": [
    "pct_Classify = reviews['Classify'].value_counts(normalize=True).mul(100).round(1).astype(str) + '%'\n",
    "pct_Classify"
   ]
  },
  {
   "cell_type": "markdown",
   "id": "1831c0ac",
   "metadata": {},
   "source": [
    "#  Vader Sentiment Analysis"
   ]
  },
  {
   "cell_type": "code",
   "execution_count": null,
   "id": "e355c740",
   "metadata": {},
   "outputs": [],
   "source": [
    "from nltk.sentiment.vader import SentimentIntensityAnalyzer"
   ]
  },
  {
   "cell_type": "code",
   "execution_count": null,
   "id": "268c6b57",
   "metadata": {},
   "outputs": [],
   "source": [
    "def classify_compound(text, threshold=0.33):\n",
    "     \n",
    "    # initialize VADER\n",
    "    sid = SentimentIntensityAnalyzer()\n",
    "     \n",
    "    # Calling the polarity_scores method on sid and passing in the text\n",
    "    # outputs a dictionary with negative, neutral, positive, and compound scores for the input text\n",
    "    scores = sid.polarity_scores(text)\n",
    "     \n",
    "    # get compound score\n",
    "    score = scores['compound']\n",
    "     \n",
    "    # translate the score into the correcponding input according to the threshold\n",
    "    if score <= -threshold: return 'Negative'\n",
    "    elif score >= threshold: return 'Positive'\n",
    "    else: return 'Neutral'"
   ]
  },
  {
   "cell_type": "code",
   "execution_count": null,
   "id": "69de4bb7",
   "metadata": {},
   "outputs": [],
   "source": [
    "reviews['compound_sentiment'] = reviews.body.apply(lambda text: classify_compound(text))"
   ]
  },
  {
   "cell_type": "code",
   "execution_count": null,
   "id": "95990917",
   "metadata": {},
   "outputs": [],
   "source": [
    "reviews.head(10)"
   ]
  },
  {
   "cell_type": "code",
   "execution_count": null,
   "id": "89d4ccf0",
   "metadata": {},
   "outputs": [],
   "source": [
    "pct_cs = reviews['compound_sentiment'].value_counts(normalize=True).mul(100).round(1).astype(str) + '%'\n",
    "pct_cs"
   ]
  },
  {
   "cell_type": "code",
   "execution_count": null,
   "id": "a38335ba",
   "metadata": {},
   "outputs": [],
   "source": [
    "plt.hist(reviews['compound_sentiment'],color='#a2c816')"
   ]
  },
  {
   "cell_type": "code",
   "execution_count": null,
   "id": "437967bf",
   "metadata": {},
   "outputs": [],
   "source": [
    "label = [ 'Positive', 'Neutral', 'Negative']\n",
    "plt.pie(reviews['compound_sentiment'].value_counts(), labels=label)\n",
    "plt.show() "
   ]
  },
  {
   "cell_type": "markdown",
   "id": "ebf29b95",
   "metadata": {},
   "source": [
    "# TextBlob"
   ]
  },
  {
   "cell_type": "code",
   "execution_count": null,
   "id": "9adccc38",
   "metadata": {},
   "outputs": [],
   "source": [
    "from textblob import TextBlob"
   ]
  },
  {
   "cell_type": "code",
   "execution_count": null,
   "id": "addc3204",
   "metadata": {},
   "outputs": [],
   "source": [
    "pol = lambda x : TextBlob(x).sentiment.polarity\n",
    "sub = lambda x : TextBlob(x).sentiment.subjectivity"
   ]
  },
  {
   "cell_type": "code",
   "execution_count": null,
   "id": "69f154cf",
   "metadata": {},
   "outputs": [],
   "source": [
    "reviews['Polarity'] = reviews['body'].apply(pol)\n",
    "reviews['Subjectivity'] = reviews['body'].apply(sub)"
   ]
  },
  {
   "cell_type": "code",
   "execution_count": null,
   "id": "69dacf04",
   "metadata": {},
   "outputs": [],
   "source": [
    "reviews.head()"
   ]
  },
  {
   "cell_type": "code",
   "execution_count": null,
   "id": "96939551",
   "metadata": {},
   "outputs": [],
   "source": [
    "#Polarity lies between [-1,1]\n",
    "def getAnalysis(score):\n",
    "      if score < 0:\n",
    "        return 'Negative'\n",
    "      elif score == 0:\n",
    "        return 'Neutral'\n",
    "      else:\n",
    "        return 'Positive'"
   ]
  },
  {
   "cell_type": "code",
   "execution_count": null,
   "id": "752850c3",
   "metadata": {},
   "outputs": [],
   "source": [
    "reviews['TextBlob'] = reviews['Polarity'].apply(getAnalysis)"
   ]
  },
  {
   "cell_type": "code",
   "execution_count": null,
   "id": "f60d7b18",
   "metadata": {},
   "outputs": [],
   "source": [
    "reviews.head()"
   ]
  },
  {
   "cell_type": "code",
   "execution_count": null,
   "id": "02c6be11",
   "metadata": {},
   "outputs": [],
   "source": [
    "pct_tb = reviews['TextBlob'].value_counts(normalize=True).mul(100).round(1).astype(str) + '%'\n",
    "pct_tb"
   ]
  },
  {
   "cell_type": "code",
   "execution_count": null,
   "id": "4afc3c7e",
   "metadata": {},
   "outputs": [],
   "source": [
    "sns.histplot(reviews['TextBlob'], color='#a2c816')"
   ]
  },
  {
   "cell_type": "code",
   "execution_count": null,
   "id": "8ad8c8a4",
   "metadata": {},
   "outputs": [],
   "source": [
    "plt.pie(reviews['TextBlob'].value_counts(), labels=reviews['TextBlob'].unique())\n",
    "plt.show()"
   ]
  },
  {
   "cell_type": "markdown",
   "id": "f5fb6611",
   "metadata": {},
   "source": [
    "# We have used three classifier here is the comparison of them"
   ]
  },
  {
   "cell_type": "code",
   "execution_count": null,
   "id": "fb14c6c2",
   "metadata": {},
   "outputs": [],
   "source": [
    "pct_Classify #Through Ratings"
   ]
  },
  {
   "cell_type": "code",
   "execution_count": null,
   "id": "4f7fa2d3",
   "metadata": {},
   "outputs": [],
   "source": [
    "pct_cs #Vedar Classifier"
   ]
  },
  {
   "cell_type": "code",
   "execution_count": null,
   "id": "d5f5590d",
   "metadata": {},
   "outputs": [],
   "source": [
    "pct_tb #TextBlob Classifier"
   ]
  },
  {
   "cell_type": "code",
   "execution_count": null,
   "id": "ee686827",
   "metadata": {},
   "outputs": [],
   "source": [
    "import re\n",
    "def text_cleaner (text):\n",
    "    clean_data= re.sub('[^a-zA-Z]', \" \", text) \n",
    "    clean_data= clean_data.lower()\n",
    "    clean_data = clean_data.split()\n",
    "    clean_data= ' '.join(clean_data)\n",
    "    return clean_data"
   ]
  },
  {
   "cell_type": "code",
   "execution_count": null,
   "id": "d1aa6747",
   "metadata": {},
   "outputs": [],
   "source": [
    "reviews.dropna(subset = [\"Classify\"], inplace=True, axis=0)"
   ]
  },
  {
   "cell_type": "code",
   "execution_count": null,
   "id": "e2baa258",
   "metadata": {},
   "outputs": [],
   "source": [
    "reviews.isnull().sum()"
   ]
  },
  {
   "cell_type": "code",
   "execution_count": null,
   "id": "e6435bfb",
   "metadata": {},
   "outputs": [],
   "source": [
    "\n",
    "reviews[\"Clean_review\"]=reviews[\"body\"].apply(lambda x: text_cleaner(str(x)))\n",
    "reviews[\"sentiment\"] = reviews[\"Classify\"].map({'Positive': 1, 'Negative':0, 'Neutral':0})\n",
    "reviews.head()"
   ]
  },
  {
   "cell_type": "code",
   "execution_count": null,
   "id": "a40a3e03",
   "metadata": {},
   "outputs": [],
   "source": [
    "reviews[\"sentiment\"].value_counts()"
   ]
  },
  {
   "cell_type": "markdown",
   "id": "987711a7",
   "metadata": {},
   "source": [
    "# Modeling"
   ]
  },
  {
   "cell_type": "code",
   "execution_count": null,
   "id": "28b729bb",
   "metadata": {},
   "outputs": [],
   "source": [
    "from sklearn.feature_extraction.text import CountVectorizer\n",
    "cv=CountVectorizer(binary=True)"
   ]
  },
  {
   "cell_type": "code",
   "execution_count": null,
   "id": "33399f20",
   "metadata": {},
   "outputs": [],
   "source": [
    "x = cv.fit_transform(reviews[\"Clean_review\"]).toarray()"
   ]
  },
  {
   "cell_type": "code",
   "execution_count": null,
   "id": "4d73caff",
   "metadata": {},
   "outputs": [],
   "source": [
    "y = reviews[\"sentiment\"].values"
   ]
  },
  {
   "cell_type": "code",
   "execution_count": null,
   "id": "4ba1443d",
   "metadata": {},
   "outputs": [],
   "source": [
    "y"
   ]
  },
  {
   "cell_type": "code",
   "execution_count": null,
   "id": "f1e31864",
   "metadata": {},
   "outputs": [],
   "source": [
    "from sklearn.model_selection import train_test_split\n",
    "from sklearn.metrics import confusion_matrix, accuracy_score, classification_report, f1_score, precision_score, recall_score\n",
    "from sklearn.metrics import roc_curve, auc"
   ]
  },
  {
   "cell_type": "code",
   "execution_count": null,
   "id": "2643ac5f",
   "metadata": {},
   "outputs": [],
   "source": [
    "X_train, X_test, y_train, y_test = train_test_split(x, y, test_size=0.33, random_state=10)"
   ]
  },
  {
   "cell_type": "code",
   "execution_count": null,
   "id": "93ed4823",
   "metadata": {},
   "outputs": [],
   "source": [
    "from sklearn.naive_bayes import BernoulliNB , GaussianNB, MultinomialNB"
   ]
  },
  {
   "cell_type": "code",
   "execution_count": null,
   "id": "b51b1f17",
   "metadata": {},
   "outputs": [],
   "source": [
    "bnb = BernoulliNB()\n",
    "gnb= GaussianNB()\n",
    "mnb= MultinomialNB()"
   ]
  },
  {
   "cell_type": "markdown",
   "id": "b36dddd5",
   "metadata": {},
   "source": [
    "# BernoulliNB"
   ]
  },
  {
   "cell_type": "code",
   "execution_count": null,
   "id": "a1b80131",
   "metadata": {},
   "outputs": [],
   "source": [
    "bnb.fit(X_train, y_train)\n",
    "y_pred = bnb.predict(X_test)\n",
    "print(confusion_matrix(y_test, y_pred))\n",
    "print(classification_report(y_test, y_pred))\n",
    "print(precision_score(y_test, y_pred))\n",
    "print(recall_score(y_test, y_pred))\n",
    "print(f1_score(y_test, y_pred))\n",
    "fpr, tpr, _ = roc_curve(y_test, y_pred)\n",
    "plt.plot(fpr, tpr, color='#a2c816')\n",
    "print(auc(fpr, tpr))"
   ]
  },
  {
   "cell_type": "markdown",
   "id": "d4d6276a",
   "metadata": {},
   "source": [
    "# GaussianNB"
   ]
  },
  {
   "cell_type": "code",
   "execution_count": null,
   "id": "80eb4282",
   "metadata": {},
   "outputs": [],
   "source": [
    "gnb.fit(X_train, y_train)\n",
    "y_pred = gnb.predict(X_test)\n",
    "print(confusion_matrix(y_test, y_pred))\n",
    "print(classification_report(y_test, y_pred))\n",
    "print(precision_score(y_test, y_pred))\n",
    "print(recall_score(y_test, y_pred))\n",
    "print(f1_score(y_test, y_pred))\n",
    "fpr, tpr, _ = roc_curve(y_test, y_pred)\n",
    "plt.plot(fpr, tpr, color='#a2c816')\n",
    "print(auc(fpr, tpr))"
   ]
  },
  {
   "cell_type": "markdown",
   "id": "a7488c88",
   "metadata": {},
   "source": [
    "# MultinomialNB"
   ]
  },
  {
   "cell_type": "code",
   "execution_count": null,
   "id": "685d3476",
   "metadata": {},
   "outputs": [],
   "source": [
    "mnb.fit(X_train, y_train)\n",
    "y_pred = mnb.predict(X_test)\n",
    "print(confusion_matrix(y_test, y_pred))\n",
    "print(classification_report(y_test, y_pred))\n",
    "print(precision_score(y_test, y_pred))\n",
    "print(recall_score(y_test, y_pred))\n",
    "print(f1_score(y_test, y_pred))\n",
    "fpr, tpr, _ = roc_curve(y_test, y_pred)\n",
    "plt.plot(fpr, tpr, color='#a2c816')\n",
    "print(auc(fpr, tpr))"
   ]
  },
  {
   "cell_type": "markdown",
   "id": "fa2cef47",
   "metadata": {},
   "source": [
    "# LogisticRegression"
   ]
  },
  {
   "cell_type": "code",
   "execution_count": null,
   "id": "657c43ca",
   "metadata": {},
   "outputs": [],
   "source": [
    "from sklearn.linear_model import LogisticRegression"
   ]
  },
  {
   "cell_type": "code",
   "execution_count": null,
   "id": "f6b78be1",
   "metadata": {},
   "outputs": [],
   "source": [
    "lg = LogisticRegression()"
   ]
  },
  {
   "cell_type": "code",
   "execution_count": null,
   "id": "d01bab5d",
   "metadata": {},
   "outputs": [],
   "source": [
    "lg.fit(X_train, y_train)\n",
    "y_pred = lg.predict(X_test)\n",
    "print(confusion_matrix(y_test, y_pred))\n",
    "print(classification_report(y_test, y_pred))\n",
    "print(precision_score(y_test, y_pred))\n",
    "print(recall_score(y_test, y_pred))\n",
    "print(f1_score(y_test, y_pred))\n",
    "fpr, tpr, _ = roc_curve(y_test, y_pred)\n",
    "plt.plot(fpr, tpr, color='#a2c816')\n",
    "print(auc(fpr, tpr))"
   ]
  },
  {
   "cell_type": "markdown",
   "id": "5c1536ed",
   "metadata": {},
   "source": [
    "# Support Vector Classifier"
   ]
  },
  {
   "cell_type": "code",
   "execution_count": null,
   "id": "4d854e76",
   "metadata": {},
   "outputs": [],
   "source": [
    "from sklearn.svm import SVC\n",
    "sv = SVC()"
   ]
  },
  {
   "cell_type": "code",
   "execution_count": null,
   "id": "edbec9dd",
   "metadata": {},
   "outputs": [],
   "source": [
    "sv.fit(X_train, y_train)\n",
    "y_pred = sv.predict(X_test)\n",
    "print(confusion_matrix(y_test, y_pred))\n",
    "print(classification_report(y_test, y_pred))\n",
    "print(precision_score(y_test, y_pred))\n",
    "print(recall_score(y_test, y_pred))\n",
    "print(f1_score(y_test, y_pred))\n",
    "fpr, tpr, _ = roc_curve(y_test, y_pred)\n",
    "plt.plot(fpr, tpr, color='#a2c816')\n",
    "print(auc(fpr, tpr))"
   ]
  },
  {
   "cell_type": "code",
   "execution_count": null,
   "id": "4d974009",
   "metadata": {},
   "outputs": [],
   "source": [
    "from sklearn.ensemble import RandomForestClassifier,AdaBoostClassifier, GradientBoostingClassifier, ExtraTreesClassifier"
   ]
  },
  {
   "cell_type": "code",
   "execution_count": null,
   "id": "232c3c19",
   "metadata": {},
   "outputs": [],
   "source": [
    "rf= RandomForestClassifier(n_estimators=300 , random_state=50)\n",
    "ad= AdaBoostClassifier(n_estimators=300 , random_state=50)\n",
    "gb = GradientBoostingClassifier(n_estimators=300 , random_state=5)\n",
    "etc= ExtraTreesClassifier(n_estimators=300 , random_state=5)"
   ]
  },
  {
   "cell_type": "code",
   "execution_count": null,
   "id": "62ea7335",
   "metadata": {},
   "outputs": [],
   "source": [
    "# from sklearn.model_selection import GridSearchCV\n",
    "# param_grid = {'n_estimators': [100,150,200,300,500],\n",
    "#               'random_state': [10,20,30,40,50,60]}\n",
    "# grid_rf = GridSearchCV(RandomForestClassifier(), param_grid=param_grid, refit = True, verbose = 3)\n",
    "# grid_ad = GridSearchCV(AdaBoostClassifier(), param_grid=param_grid, refit = True, verbose = 3)\n",
    "# grid_gb = GridSearchCV(GradientBoostingClassifier(), param_grid=param_grid, refit = True, verbose = 3)\n",
    "# grid_etc = GridSearchCV(ExtraTreesClassifier(), param_grid=param_grid, refit = True, verbose = 3)"
   ]
  },
  {
   "cell_type": "code",
   "execution_count": null,
   "id": "0a15dace",
   "metadata": {},
   "outputs": [],
   "source": [
    "# grid_rf.fit(X_train, y_train)"
   ]
  },
  {
   "cell_type": "code",
   "execution_count": null,
   "id": "91245648",
   "metadata": {},
   "outputs": [],
   "source": [
    "#grid_rf.best_params_"
   ]
  },
  {
   "cell_type": "markdown",
   "id": "7d5b762a",
   "metadata": {},
   "source": [
    "# RandomForestClassifier"
   ]
  },
  {
   "cell_type": "code",
   "execution_count": null,
   "id": "2a2dae28",
   "metadata": {},
   "outputs": [],
   "source": [
    "rf.fit(X_train, y_train)\n",
    "y_pred = rf.predict(X_test)\n",
    "print(confusion_matrix(y_test, y_pred))\n",
    "print(classification_report(y_test, y_pred))\n",
    "print(precision_score(y_test, y_pred))\n",
    "print(recall_score(y_test, y_pred))\n",
    "print(f1_score(y_test, y_pred))\n",
    "fpr, tpr, _ = roc_curve(y_test, y_pred)\n",
    "plt.plot(fpr, tpr, color='#a2c816')\n",
    "print(auc(fpr, tpr))"
   ]
  },
  {
   "cell_type": "markdown",
   "id": "391ece2a",
   "metadata": {},
   "source": [
    "# AdaBoostClassifier"
   ]
  },
  {
   "cell_type": "code",
   "execution_count": null,
   "id": "d32d4752",
   "metadata": {},
   "outputs": [],
   "source": [
    "ad.fit(X_train, y_train)\n",
    "y_pred = ad.predict(X_test)\n",
    "print(confusion_matrix(y_test, y_pred))\n",
    "print(classification_report(y_test, y_pred))\n",
    "print(precision_score(y_test, y_pred))\n",
    "print(recall_score(y_test, y_pred))\n",
    "print(f1_score(y_test, y_pred))\n",
    "fpr, tpr, _ = roc_curve(y_test, y_pred)\n",
    "plt.plot(fpr, tpr, color='#a2c816')\n",
    "print(auc(fpr, tpr))"
   ]
  },
  {
   "cell_type": "markdown",
   "id": "965095b8",
   "metadata": {},
   "source": [
    "# GradientBoostingClassifier"
   ]
  },
  {
   "cell_type": "code",
   "execution_count": null,
   "id": "9c14600b",
   "metadata": {},
   "outputs": [],
   "source": [
    "gb.fit(X_train, y_train)\n",
    "y_pred = gb.predict(X_test)\n",
    "print(confusion_matrix(y_test, y_pred))\n",
    "print(classification_report(y_test, y_pred))\n",
    "print(precision_score(y_test, y_pred))\n",
    "print(recall_score(y_test, y_pred))\n",
    "print(f1_score(y_test, y_pred))\n",
    "fpr, tpr, _ = roc_curve(y_test, y_pred)\n",
    "plt.plot(fpr, tpr, color='#a2c816')\n",
    "print(auc(fpr, tpr))"
   ]
  },
  {
   "cell_type": "markdown",
   "id": "92951b9d",
   "metadata": {},
   "source": [
    "# ExtraTreesClassifier"
   ]
  },
  {
   "cell_type": "code",
   "execution_count": null,
   "id": "18d8fe3e",
   "metadata": {},
   "outputs": [],
   "source": [
    "etc.fit(X_train, y_train)\n",
    "y_pred = etc.predict(X_test)\n",
    "print(confusion_matrix(y_test, y_pred))\n",
    "print(classification_report(y_test, y_pred))\n",
    "print(precision_score(y_test, y_pred))\n",
    "print(recall_score(y_test, y_pred))\n",
    "print(f1_score(y_test, y_pred))\n",
    "fpr, tpr, _ = roc_curve(y_test, y_pred)\n",
    "plt.plot(fpr, tpr, color='#a2c816')\n",
    "print(auc(fpr, tpr))"
   ]
  },
  {
   "cell_type": "markdown",
   "id": "a4b562fa",
   "metadata": {},
   "source": [
    "# DecisionTreeClassifier "
   ]
  },
  {
   "cell_type": "code",
   "execution_count": null,
   "id": "1e94562c",
   "metadata": {},
   "outputs": [],
   "source": [
    "from sklearn.tree import DecisionTreeClassifier"
   ]
  },
  {
   "cell_type": "code",
   "execution_count": null,
   "id": "9abbc7ab",
   "metadata": {},
   "outputs": [],
   "source": [
    "dt = DecisionTreeClassifier()"
   ]
  },
  {
   "cell_type": "code",
   "execution_count": null,
   "id": "fd9bfb4b",
   "metadata": {},
   "outputs": [],
   "source": [
    "dt.fit(X_train, y_train)\n",
    "y_pred = dt.predict(X_test)\n",
    "print(confusion_matrix(y_test, y_pred))\n",
    "print(classification_report(y_test, y_pred))\n",
    "print(precision_score(y_test, y_pred))\n",
    "print(recall_score(y_test, y_pred))\n",
    "print(f1_score(y_test, y_pred))\n",
    "fpr, tpr, _ = roc_curve(y_test, y_pred)\n",
    "plt.plot(fpr, tpr, color='#a2c816')\n",
    "print(auc(fpr, tpr))"
   ]
  },
  {
   "cell_type": "markdown",
   "id": "d7dd5efd",
   "metadata": {},
   "source": [
    "# VotingClassifier"
   ]
  },
  {
   "cell_type": "code",
   "execution_count": null,
   "id": "2bd4cc17",
   "metadata": {},
   "outputs": [],
   "source": [
    "from sklearn.ensemble import VotingClassifier"
   ]
  },
  {
   "cell_type": "code",
   "execution_count": null,
   "id": "09e601da",
   "metadata": {},
   "outputs": [],
   "source": [
    "vote_hard = VotingClassifier(estimators=[('lr', lg), ('bnb', bnb), ('ad', ad), ('mnb', mnb)], voting='hard')"
   ]
  },
  {
   "cell_type": "code",
   "execution_count": null,
   "id": "40cdc6b5",
   "metadata": {},
   "outputs": [],
   "source": [
    "vote_hard.fit(X_train, y_train)"
   ]
  },
  {
   "cell_type": "code",
   "execution_count": null,
   "id": "dff88919",
   "metadata": {},
   "outputs": [],
   "source": [
    "vote_hard.fit(X_train, y_train)\n",
    "y_pred = vote_hard.predict(X_test)\n",
    "print(confusion_matrix(y_test, y_pred))\n",
    "print(classification_report(y_test, y_pred))\n",
    "print(precision_score(y_test, y_pred))\n",
    "print(recall_score(y_test, y_pred))\n",
    "print(f1_score(y_test, y_pred))\n",
    "fpr, tpr, _ = roc_curve(y_test, y_pred)\n",
    "plt.plot(fpr, tpr, color='#a2c816')\n",
    "print(auc(fpr, tpr))"
   ]
  },
  {
   "cell_type": "code",
   "execution_count": null,
   "id": "d0076135",
   "metadata": {},
   "outputs": [],
   "source": [
    "vote_soft = VotingClassifier(estimators=[('lr', lg), ('bnb', bnb), ('ad', ad), ('mnb', mnb)], voting='soft')"
   ]
  },
  {
   "cell_type": "code",
   "execution_count": null,
   "id": "43649f6f",
   "metadata": {},
   "outputs": [],
   "source": [
    "vote_soft.fit(X_train, y_train)\n",
    "y_pred = vote_soft.predict(X_test)\n",
    "print(confusion_matrix(y_test, y_pred))\n",
    "print(classification_report(y_test, y_pred))\n",
    "print(precision_score(y_test, y_pred))\n",
    "print(recall_score(y_test, y_pred))\n",
    "print(f1_score(y_test, y_pred))\n",
    "fpr, tpr, _ = roc_curve(y_test, y_pred)\n",
    "plt.plot(fpr, tpr, color='#a2c816')\n",
    "print(auc(fpr, tpr))"
   ]
  },
  {
   "cell_type": "code",
   "execution_count": null,
   "id": "e3349016",
   "metadata": {},
   "outputs": [],
   "source": [
    "text = 'Not Good'\n",
    "clean_data= text_cleaner(text)\n",
    "clean_data\n",
    "cv1=cv.transform([clean_data])"
   ]
  },
  {
   "cell_type": "code",
   "execution_count": null,
   "id": "9843c8d6",
   "metadata": {},
   "outputs": [],
   "source": [
    "bnb.predict(cv1)"
   ]
  },
  {
   "cell_type": "code",
   "execution_count": null,
   "id": "baf42422",
   "metadata": {},
   "outputs": [],
   "source": [
    "ad.predict(cv1)"
   ]
  },
  {
   "cell_type": "code",
   "execution_count": null,
   "id": "b8917525",
   "metadata": {},
   "outputs": [],
   "source": [
    "mnb.predict(cv1)"
   ]
  },
  {
   "cell_type": "code",
   "execution_count": null,
   "id": "76e9e431",
   "metadata": {},
   "outputs": [],
   "source": [
    "lg.predict(cv1)"
   ]
  },
  {
   "cell_type": "code",
   "execution_count": null,
   "id": "c92d38bd",
   "metadata": {},
   "outputs": [],
   "source": [
    "vote_soft.predict(cv1)"
   ]
  },
  {
   "cell_type": "code",
   "execution_count": null,
   "id": "009f258e",
   "metadata": {},
   "outputs": [],
   "source": [
    "# import pickle"
   ]
  },
  {
   "cell_type": "code",
   "execution_count": null,
   "id": "f1ebf59e",
   "metadata": {},
   "outputs": [],
   "source": [
    "# file = open(\"F:ExcelR/Project 88/votingClassifier.pkl\",\"wb\")\n",
    "# pickle.dump(vote_soft , file)"
   ]
  },
  {
   "cell_type": "code",
   "execution_count": null,
   "id": "fe6b23cb",
   "metadata": {},
   "outputs": [],
   "source": [
    "# file2 = open(\"F:ExcelR/Project 88/vector.pkl\",\"wb\")\n",
    "# pickle.dump(cv , file2)"
   ]
  },
  {
   "cell_type": "code",
   "execution_count": null,
   "id": "25dfb774",
   "metadata": {},
   "outputs": [],
   "source": []
  }
 ],
 "metadata": {
  "kernelspec": {
   "display_name": "Python 3 (ipykernel)",
   "language": "python",
   "name": "python3"
  },
  "language_info": {
   "codemirror_mode": {
    "name": "ipython",
    "version": 3
   },
   "file_extension": ".py",
   "mimetype": "text/x-python",
   "name": "python",
   "nbconvert_exporter": "python",
   "pygments_lexer": "ipython3",
   "version": "3.9.7"
  }
 },
 "nbformat": 4,
 "nbformat_minor": 5
}
